{
  "cells": [
    {
      "cell_type": "code",
      "execution_count": null,
      "metadata": {},
      "outputs": [],
      "source": [
        "from pix2pix import Pix2Pix\n",
        "from DataLoaderManager import DataLoaderManager\n",
        "from torchvision import transforms\n",
        "import pytorch_lightning as pl"
      ]
    },
    {
      "cell_type": "code",
      "execution_count": 1,
      "metadata": {},
      "outputs": [],
      "source": [
        "# cd C:\\Users\\rs659\\Desktop\\Image-Denoise\n",
        "# conda activate imgdenv"
      ]
    },
    {
      "cell_type": "code",
      "execution_count": 3,
      "metadata": {},
      "outputs": [
        {
          "name": "stdout",
          "output_type": "stream",
          "text": [
            "^C\n"
          ]
        }
      ],
      "source": [
        "tensorboard --logdir='lightning_logs\\\\version_0\\events.out.tfevents.1713190168.MPS-ALIEN-02-WD.42924.0'\n",
        "# tensorboard --logdir='lightning_logs\\version_0\\\\events.out.tfevents.1713191524.MPS-ALIEN-02-WD.42924.1'\n",
        "# tensorboard --logdir='lightning_logs\\\\version_0\\events.out.tfevents.1713190168.MPS-ALIEN-02-WD.42924.2'\n",
        "tensorboard --logdir='C:\\\\Users\\\\rs659\\\\Desktop\\\\Image-Denoise\\\\lightning_logs\\\\version_1\\\\events.out.tfevents.1713191540.MPS-ALIEN-02-WD.42924.3'"
      ]
    },
    {
      "cell_type": "markdown",
      "metadata": {},
      "source": [
        "# Create Datasets"
      ]
    },
    {
      "cell_type": "code",
      "execution_count": null,
      "metadata": {},
      "outputs": [],
      "source": [
        "# # CREATE DATASETS\n",
        "\n",
        "\n",
        "# from DataLoaderManager import DataLoaderManager\n",
        "# from torchvision import transforms\n",
        "\n",
        "# batch_size = 128\n",
        "# # Example usage:\n",
        "# transform = transforms.Compose([\n",
        "#     transforms.Resize((256, 256)),  # Resize the image\n",
        "#     transforms.ToTensor(),          # Convert to tensor\n",
        "#     transforms.Normalize(mean=[0.485, 0.456, 0.406], std=[0.229, 0.224, 0.225])  # Normalize\n",
        "# ])\n",
        "\n",
        "\n",
        "# root_dir='SIDD_Small_sRGB/SIDD_Small_sRGB/Data/'\n",
        "# base_filename = 'SIDD_Small_sRGB'\n",
        "\n",
        "# data_loader_manager = DataLoaderManager(root_dir=root_dir, train_file='heldout_test',test_file=base_filename,make_held_out_set=True,transform=transform)\n",
        "# dataloader, val_dataloader = data_loader_manager.process_dataloaders(batch_size=batch_size, shuffle=True)\n",
        "# print(f\"Heldout Dataset Size: {len(dataloader.dataset)} \\n\\n\\n\")\n",
        "\n",
        "\n",
        "\n",
        "# data_loader_manager = DataLoaderManager(root_dir=root_dir, train_file=base_filename,test_file=base_filename,make_held_out_set=False,transform=transform)\n",
        "# dataloader, val_dataloader = data_loader_manager.process_dataloaders(batch_size=batch_size, shuffle=True)\n",
        "# print(f\"Train Dataset Size: {len(dataloader.dataset)}\")\n",
        "# print(f\"Test Dataset Size: {len(val_dataloader.dataset)} \\n\\n\\n\")\n",
        "\n",
        "# root_dir='SIDD_Medium_sRGB/SIDD_Medium_sRGB/Data/'\n",
        "# base_filename = 'SIDD_Medium_sRGB'\n",
        "\n",
        "# data_loader_manager = DataLoaderManager(root_dir=root_dir, train_file=base_filename,test_file=base_filename,make_held_out_set=False,transform=transform)\n",
        "# dataloader, val_dataloader = data_loader_manager.process_dataloaders(batch_size=batch_size, shuffle=True)\n",
        "# print(f\"Train Dataset Size: {len(dataloader.dataset)}\")\n",
        "# print(f\"Test Dataset Size: {len(val_dataloader.dataset)}\")"
      ]
    },
    {
      "cell_type": "markdown",
      "metadata": {},
      "source": [
        "# Pix2Pix"
      ]
    },
    {
      "cell_type": "code",
      "execution_count": null,
      "metadata": {},
      "outputs": [],
      "source": [
        "target_size = None\n",
        "lr=0.0002\n",
        "lambda_recon=200\n",
        "batch_size = 128\n",
        "\n",
        "# Example usage:\n",
        "transform = transforms.Compose([\n",
        "    transforms.Resize((256, 256)),  # Resize the image\n",
        "    transforms.ToTensor(),          # Convert to tensor\n",
        "    transforms.Normalize(mean=[0.485, 0.456, 0.406], std=[0.229, 0.224, 0.225])  # Normalize\n",
        "])\n",
        "\n",
        "display_step = 10\n",
        "\n",
        "import torch\n",
        "torch.set_float32_matmul_precision(\"medium\")"
      ]
    },
    {
      "cell_type": "markdown",
      "metadata": {},
      "source": [
        "## Small Dataset"
      ]
    },
    {
      "cell_type": "code",
      "execution_count": null,
      "metadata": {},
      "outputs": [],
      "source": [
        "root_dir='SIDD_Small_sRGB/SIDD_Small_sRGB/Data/'\n",
        "base_filename = 'SIDD_Small_sRGB'\n",
        "\n",
        "data_loader_manager = DataLoaderManager(root_dir=root_dir, train_file=base_filename,test_file=base_filename,make_held_out_set=False,transform=transform)\n",
        "dataloader, val_dataloader = data_loader_manager.process_dataloaders(batch_size=batch_size, shuffle=True)\n",
        "\n",
        "print(f\"Train Dataset Size: {len(dataloader.dataset)}\")\n",
        "print(f\"Test Dataset Size: {len(val_dataloader.dataset)}\")\n",
        "\n",
        "\n",
        "pix2pix = Pix2Pix(3, 3, learning_rate=lr, lambda_recon=lambda_recon, display_step=display_step)\n",
        "trainer = pl.Trainer(max_epochs=500,log_every_n_steps=1)\n",
        "trainer.fit(pix2pix, dataloader)"
      ]
    },
    {
      "cell_type": "code",
      "execution_count": null,
      "metadata": {},
      "outputs": [],
      "source": [
        "# automatically auto-loads the best weights from the previous run\n",
        "# trainer.validate(dataloaders=val_dataloader,ckpt_path='lightning_logs\\\\version_1\\\\checkpoints\\\\epoch=499-step=500.ckpt')\n",
        "trainer.validate(dataloaders=val_dataloader)\n",
        "trainer.validate(dataloaders=dataloader)"
      ]
    },
    {
      "cell_type": "markdown",
      "metadata": {},
      "source": [
        "## Medium Dataset"
      ]
    },
    {
      "cell_type": "code",
      "execution_count": null,
      "metadata": {},
      "outputs": [],
      "source": [
        "root_dir='SIDD_Medium_sRGB/SIDD_Medium_sRGB/Data/'\n",
        "base_filename = 'SIDD_Medium_sRGB'\n",
        "\n",
        "data_loader_manager = DataLoaderManager(root_dir=root_dir, train_file=base_filename,test_file=base_filename,make_held_out_set=False,transform=transform)\n",
        "dataloader, val_dataloader = data_loader_manager.process_dataloaders(batch_size=batch_size, shuffle=True)\n",
        "\n",
        "print(f\"Train Dataset Size: {len(dataloader.dataset)}\")\n",
        "print(f\"Test Dataset Size: {len(val_dataloader.dataset)}\")\n",
        "\n",
        "\n",
        "pix2pix = Pix2Pix(3, 3, learning_rate=lr, lambda_recon=lambda_recon, display_step=display_step)\n",
        "trainer = pl.Trainer(max_epochs=500,log_every_n_steps=1)\n",
        "trainer.fit(pix2pix, dataloader)     "
      ]
    },
    {
      "cell_type": "code",
      "execution_count": null,
      "metadata": {},
      "outputs": [],
      "source": [
        "# automatically auto-loads the best weights from the previous run\n",
        "trainer.test(dataloaders=val_dataloader)\n",
        "trainer.validate(dataloaders=dataloader)"
      ]
    },
    {
      "cell_type": "markdown",
      "metadata": {},
      "source": [
        "## Medium Heldout test"
      ]
    },
    {
      "cell_type": "code",
      "execution_count": null,
      "metadata": {},
      "outputs": [],
      "source": [
        "root_dir='SIDD_Medium_sRGB/SIDD_Medium_sRGB/Data/'\n",
        "base_filename = 'SIDD_Medium_sRGB'\n",
        "\n",
        "\n",
        "data_loader_manager = DataLoaderManager(root_dir=root_dir, train_file='heldout_test',test_file=base_filename,make_held_out_set=True,transform=transform)\n",
        "dataloader, val_dataloader = data_loader_manager.process_dataloaders(batch_size=batch_size, shuffle=True)\n",
        "\n",
        "\n",
        "\n",
        "print(f\"Train Dataset Size: {len(dataloader.dataset)}\")\n",
        "print(f\"Test Dataset Size: {len(val_dataloader.dataset)}\")"
      ]
    },
    {
      "cell_type": "code",
      "execution_count": null,
      "metadata": {},
      "outputs": [],
      "source": [
        "pix2pix = Pix2Pix(3, 3, learning_rate=lr, lambda_recon=lambda_recon, display_step=display_step)\n",
        "trainer = pl.Trainer(max_epochs=500,log_every_n_steps=1)\n",
        "# trainer.fit(pix2pix, dataloader)     \n",
        "\n",
        "trainer.test(dataloaders=val_dataloader,ckpt_path='lightning_logs\\\\version_1\\checkpoints\\epoch=499-step=1000.ckpt')\n",
        "# trainer.validate(dataloaders=dataloader)"
      ]
    },
    {
      "cell_type": "code",
      "execution_count": null,
      "metadata": {},
      "outputs": [],
      "source": [
        "# root_dir='SIDD_Medium_sRGB/SIDD_Medium_sRGB/Data/'\n",
        "# base_filename = 'SIDD_Medium_sRGB'\n",
        "\n",
        "\n",
        "# root_dir='SIDD_Small_sRGB/SIDD_Small_sRGB/Data/'\n",
        "# base_filename = 'SIDD_Small_sRGB'\n",
        "\n",
        "# import os\n",
        "# import tqdm\n",
        "# import glob\n",
        "\n",
        "\n",
        "# image_paths = [] \n",
        "\n",
        "# for folder_name in tqdm.tqdm(os.listdir(root_dir)):\n",
        "#     folder_path = os.path.join(root_dir, folder_name)\n",
        "#     # print(folder_path)\n",
        "    \n",
        "#     if os.path.isdir(folder_path):\n",
        "#         image_names = os.listdir(os.path.join(folder_path))\n",
        "#         GT_images = glob.glob(os.path.join(folder_path) + '/*GT*')\n",
        "#         NOISY_images = glob.glob(os.path.join(folder_path) + '/*NOISY*')\n",
        "#         for i in range(len(GT_images)):\n",
        "#             image_paths.append({\n",
        "#                     'gt': GT_images[i],\n",
        "#                     'noisy': NOISY_images[i]\n",
        "#                     })\n",
        "        \n",
        "# len(image_paths) , image_paths"
      ]
    },
    {
      "cell_type": "code",
      "execution_count": null,
      "metadata": {},
      "outputs": [],
      "source": [
        "# glob.glob(os.path.join(folder_path) + '/*GT*') , glob.glob(os.path.join(folder_path) + '/*NOISY*')"
      ]
    },
    {
      "cell_type": "code",
      "execution_count": null,
      "metadata": {},
      "outputs": [],
      "source": []
    },
    {
      "cell_type": "code",
      "execution_count": null,
      "metadata": {},
      "outputs": [],
      "source": []
    },
    {
      "cell_type": "code",
      "execution_count": null,
      "metadata": {},
      "outputs": [],
      "source": []
    },
    {
      "cell_type": "code",
      "execution_count": null,
      "metadata": {},
      "outputs": [],
      "source": []
    }
  ],
  "metadata": {
    "accelerator": "GPU",
    "colab": {
      "collapsed_sections": [
        "PbGW4pRoYqRy"
      ],
      "gpuType": "T4",
      "provenance": []
    },
    "kernelspec": {
      "display_name": "Python 3",
      "name": "python3"
    },
    "language_info": {
      "codemirror_mode": {
        "name": "ipython",
        "version": 3
      },
      "file_extension": ".py",
      "mimetype": "text/x-python",
      "name": "python",
      "nbconvert_exporter": "python",
      "pygments_lexer": "ipython3",
      "version": "3.9.19"
    },
    "orig_nbformat": 4,
    "widgets": {
      "application/vnd.jupyter.widget-state+json": {
        "1cadc9681bb64b94a360413affc54fd3": {
          "model_module": "@jupyter-widgets/base",
          "model_module_version": "1.2.0",
          "model_name": "LayoutModel",
          "state": {
            "_model_module": "@jupyter-widgets/base",
            "_model_module_version": "1.2.0",
            "_model_name": "LayoutModel",
            "_view_count": null,
            "_view_module": "@jupyter-widgets/base",
            "_view_module_version": "1.2.0",
            "_view_name": "LayoutView",
            "align_content": null,
            "align_items": null,
            "align_self": null,
            "border": null,
            "bottom": null,
            "display": null,
            "flex": null,
            "flex_flow": null,
            "grid_area": null,
            "grid_auto_columns": null,
            "grid_auto_flow": null,
            "grid_auto_rows": null,
            "grid_column": null,
            "grid_gap": null,
            "grid_row": null,
            "grid_template_areas": null,
            "grid_template_columns": null,
            "grid_template_rows": null,
            "height": null,
            "justify_content": null,
            "justify_items": null,
            "left": null,
            "margin": null,
            "max_height": null,
            "max_width": null,
            "min_height": null,
            "min_width": null,
            "object_fit": null,
            "object_position": null,
            "order": null,
            "overflow": null,
            "overflow_x": null,
            "overflow_y": null,
            "padding": null,
            "right": null,
            "top": null,
            "visibility": null,
            "width": null
          }
        },
        "201abdb5733c4fbc96495c97bd622726": {
          "model_module": "@jupyter-widgets/controls",
          "model_module_version": "1.5.0",
          "model_name": "ProgressStyleModel",
          "state": {
            "_model_module": "@jupyter-widgets/controls",
            "_model_module_version": "1.5.0",
            "_model_name": "ProgressStyleModel",
            "_view_count": null,
            "_view_module": "@jupyter-widgets/base",
            "_view_module_version": "1.2.0",
            "_view_name": "StyleView",
            "bar_color": null,
            "description_width": ""
          }
        },
        "31e499dee226485f89d9c9b073f012ae": {
          "model_module": "@jupyter-widgets/base",
          "model_module_version": "1.2.0",
          "model_name": "LayoutModel",
          "state": {
            "_model_module": "@jupyter-widgets/base",
            "_model_module_version": "1.2.0",
            "_model_name": "LayoutModel",
            "_view_count": null,
            "_view_module": "@jupyter-widgets/base",
            "_view_module_version": "1.2.0",
            "_view_name": "LayoutView",
            "align_content": null,
            "align_items": null,
            "align_self": null,
            "border": null,
            "bottom": null,
            "display": null,
            "flex": null,
            "flex_flow": null,
            "grid_area": null,
            "grid_auto_columns": null,
            "grid_auto_flow": null,
            "grid_auto_rows": null,
            "grid_column": null,
            "grid_gap": null,
            "grid_row": null,
            "grid_template_areas": null,
            "grid_template_columns": null,
            "grid_template_rows": null,
            "height": null,
            "justify_content": null,
            "justify_items": null,
            "left": null,
            "margin": null,
            "max_height": null,
            "max_width": null,
            "min_height": null,
            "min_width": null,
            "object_fit": null,
            "object_position": null,
            "order": null,
            "overflow": null,
            "overflow_x": null,
            "overflow_y": null,
            "padding": null,
            "right": null,
            "top": null,
            "visibility": null,
            "width": null
          }
        },
        "59548eaae4dc4f4f96f25259b40deae3": {
          "model_module": "@jupyter-widgets/controls",
          "model_module_version": "1.5.0",
          "model_name": "HTMLModel",
          "state": {
            "_dom_classes": [],
            "_model_module": "@jupyter-widgets/controls",
            "_model_module_version": "1.5.0",
            "_model_name": "HTMLModel",
            "_view_count": null,
            "_view_module": "@jupyter-widgets/controls",
            "_view_module_version": "1.5.0",
            "_view_name": "HTMLView",
            "description": "",
            "description_tooltip": null,
            "layout": "IPY_MODEL_31e499dee226485f89d9c9b073f012ae",
            "placeholder": "​",
            "style": "IPY_MODEL_65f26eb6de1a42be864ba4668dd0286b",
            "value": "Epoch 92:   0%"
          }
        },
        "5cc30ceb83fa48a1b1e306de335cc0a5": {
          "model_module": "@jupyter-widgets/controls",
          "model_module_version": "1.5.0",
          "model_name": "DescriptionStyleModel",
          "state": {
            "_model_module": "@jupyter-widgets/controls",
            "_model_module_version": "1.5.0",
            "_model_name": "DescriptionStyleModel",
            "_view_count": null,
            "_view_module": "@jupyter-widgets/base",
            "_view_module_version": "1.2.0",
            "_view_name": "StyleView",
            "description_width": ""
          }
        },
        "65f26eb6de1a42be864ba4668dd0286b": {
          "model_module": "@jupyter-widgets/controls",
          "model_module_version": "1.5.0",
          "model_name": "DescriptionStyleModel",
          "state": {
            "_model_module": "@jupyter-widgets/controls",
            "_model_module_version": "1.5.0",
            "_model_name": "DescriptionStyleModel",
            "_view_count": null,
            "_view_module": "@jupyter-widgets/base",
            "_view_module_version": "1.2.0",
            "_view_name": "StyleView",
            "description_width": ""
          }
        },
        "709a32ea4a2841019d2b626102414b7f": {
          "model_module": "@jupyter-widgets/controls",
          "model_module_version": "1.5.0",
          "model_name": "HTMLModel",
          "state": {
            "_dom_classes": [],
            "_model_module": "@jupyter-widgets/controls",
            "_model_module_version": "1.5.0",
            "_model_name": "HTMLModel",
            "_view_count": null,
            "_view_module": "@jupyter-widgets/controls",
            "_view_module_version": "1.5.0",
            "_view_name": "HTMLView",
            "description": "",
            "description_tooltip": null,
            "layout": "IPY_MODEL_1cadc9681bb64b94a360413affc54fd3",
            "placeholder": "​",
            "style": "IPY_MODEL_5cc30ceb83fa48a1b1e306de335cc0a5",
            "value": " 0/4 [00:00&lt;?, ?it/s, v_num=5]"
          }
        },
        "84b397a5070142aeb7889e8bc6c37d02": {
          "model_module": "@jupyter-widgets/controls",
          "model_module_version": "1.5.0",
          "model_name": "FloatProgressModel",
          "state": {
            "_dom_classes": [],
            "_model_module": "@jupyter-widgets/controls",
            "_model_module_version": "1.5.0",
            "_model_name": "FloatProgressModel",
            "_view_count": null,
            "_view_module": "@jupyter-widgets/controls",
            "_view_module_version": "1.5.0",
            "_view_name": "ProgressView",
            "bar_style": "",
            "description": "",
            "description_tooltip": null,
            "layout": "IPY_MODEL_f777fdcd7fa340c7bb7bb1020f6cf6cc",
            "max": 4,
            "min": 0,
            "orientation": "horizontal",
            "style": "IPY_MODEL_201abdb5733c4fbc96495c97bd622726",
            "value": 0
          }
        },
        "b1056d32ba424177b559291396289a26": {
          "model_module": "@jupyter-widgets/controls",
          "model_module_version": "1.5.0",
          "model_name": "HBoxModel",
          "state": {
            "_dom_classes": [],
            "_model_module": "@jupyter-widgets/controls",
            "_model_module_version": "1.5.0",
            "_model_name": "HBoxModel",
            "_view_count": null,
            "_view_module": "@jupyter-widgets/controls",
            "_view_module_version": "1.5.0",
            "_view_name": "HBoxView",
            "box_style": "",
            "children": [
              "IPY_MODEL_59548eaae4dc4f4f96f25259b40deae3",
              "IPY_MODEL_84b397a5070142aeb7889e8bc6c37d02",
              "IPY_MODEL_709a32ea4a2841019d2b626102414b7f"
            ],
            "layout": "IPY_MODEL_de5fd2115852487d80d967f1f69e6b9c"
          }
        },
        "de5fd2115852487d80d967f1f69e6b9c": {
          "model_module": "@jupyter-widgets/base",
          "model_module_version": "1.2.0",
          "model_name": "LayoutModel",
          "state": {
            "_model_module": "@jupyter-widgets/base",
            "_model_module_version": "1.2.0",
            "_model_name": "LayoutModel",
            "_view_count": null,
            "_view_module": "@jupyter-widgets/base",
            "_view_module_version": "1.2.0",
            "_view_name": "LayoutView",
            "align_content": null,
            "align_items": null,
            "align_self": null,
            "border": null,
            "bottom": null,
            "display": "inline-flex",
            "flex": null,
            "flex_flow": "row wrap",
            "grid_area": null,
            "grid_auto_columns": null,
            "grid_auto_flow": null,
            "grid_auto_rows": null,
            "grid_column": null,
            "grid_gap": null,
            "grid_row": null,
            "grid_template_areas": null,
            "grid_template_columns": null,
            "grid_template_rows": null,
            "height": null,
            "justify_content": null,
            "justify_items": null,
            "left": null,
            "margin": null,
            "max_height": null,
            "max_width": null,
            "min_height": null,
            "min_width": null,
            "object_fit": null,
            "object_position": null,
            "order": null,
            "overflow": null,
            "overflow_x": null,
            "overflow_y": null,
            "padding": null,
            "right": null,
            "top": null,
            "visibility": null,
            "width": "100%"
          }
        },
        "f777fdcd7fa340c7bb7bb1020f6cf6cc": {
          "model_module": "@jupyter-widgets/base",
          "model_module_version": "1.2.0",
          "model_name": "LayoutModel",
          "state": {
            "_model_module": "@jupyter-widgets/base",
            "_model_module_version": "1.2.0",
            "_model_name": "LayoutModel",
            "_view_count": null,
            "_view_module": "@jupyter-widgets/base",
            "_view_module_version": "1.2.0",
            "_view_name": "LayoutView",
            "align_content": null,
            "align_items": null,
            "align_self": null,
            "border": null,
            "bottom": null,
            "display": null,
            "flex": "2",
            "flex_flow": null,
            "grid_area": null,
            "grid_auto_columns": null,
            "grid_auto_flow": null,
            "grid_auto_rows": null,
            "grid_column": null,
            "grid_gap": null,
            "grid_row": null,
            "grid_template_areas": null,
            "grid_template_columns": null,
            "grid_template_rows": null,
            "height": null,
            "justify_content": null,
            "justify_items": null,
            "left": null,
            "margin": null,
            "max_height": null,
            "max_width": null,
            "min_height": null,
            "min_width": null,
            "object_fit": null,
            "object_position": null,
            "order": null,
            "overflow": null,
            "overflow_x": null,
            "overflow_y": null,
            "padding": null,
            "right": null,
            "top": null,
            "visibility": null,
            "width": null
          }
        }
      }
    }
  },
  "nbformat": 4,
  "nbformat_minor": 0
}
