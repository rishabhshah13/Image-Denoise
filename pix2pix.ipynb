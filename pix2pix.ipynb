{
  "cells": [
    {
      "cell_type": "code",
      "execution_count": null,
      "metadata": {
        "id": "HMvpVMC7YqRw"
      },
      "outputs": [],
      "source": [
        "# !wget http://efrosgans.eecs.berkeley.edu/pix2pix/datasets/facades.tar.gz\n",
        "# !tar -xvf facades.tar.gz\n",
        "\n",
        "# https://github.com/aniketmaurya/pytorch-gans/tree/main"
      ]
    },
    {
      "cell_type": "code",
      "execution_count": null,
      "metadata": {
        "id": "fwg5r9rHaZW6"
      },
      "outputs": [],
      "source": [
        "# !pip install pytorch-lightning==1.5.7\n",
        "# !pip install torchtext"
      ]
    },
    {
      "cell_type": "code",
      "execution_count": null,
      "metadata": {
        "id": "Sz-2LNY_Y3ld"
      },
      "outputs": [],
      "source": [
        "# !pip install pytorch-lightning"
      ]
    },
    {
      "cell_type": "code",
      "execution_count": null,
      "metadata": {
        "id": "9ULkfqBVYqRx"
      },
      "outputs": [],
      "source": [
        "import os\n",
        "from glob import glob\n",
        "from pathlib import Path\n",
        "\n",
        "import matplotlib.pyplot as plt\n",
        "import pytorch_lightning as pl\n",
        "import torch\n",
        "from PIL import Image\n",
        "from torch import nn\n",
        "from torch.utils.data import DataLoader, Dataset\n",
        "from torchvision import transforms\n",
        "from torchvision.transforms.functional import center_crop\n",
        "from torchvision.utils import make_grid\n",
        "from tqdm.auto import tqdm"
      ]
    },
    {
      "cell_type": "code",
      "execution_count": null,
      "metadata": {
        "id": "D1ZLNyrsYqRx"
      },
      "outputs": [],
      "source": [
        "path = \"./facades/train/\"\n",
        "\n",
        "\n",
        "class FacadesDataset(Dataset):\n",
        "    def __init__(self, path, target_size=None):\n",
        "        self.filenames = glob(str(Path(path) / \"*\"))\n",
        "        self.target_size = target_size\n",
        "\n",
        "    def __len__(self):\n",
        "        return len(self.filenames)\n",
        "\n",
        "    def __getitem__(self, idx):\n",
        "        filename = self.filenames[idx]\n",
        "        image = Image.open(filename)\n",
        "        image = transforms.functional.to_tensor(image)\n",
        "        image_width = image.shape[2]\n",
        "\n",
        "        real = image[:, :, : image_width // 2]\n",
        "        condition = image[:, :, image_width // 2 :]\n",
        "\n",
        "        target_size = self.target_size\n",
        "        if target_size:\n",
        "            condition = nn.functional.interpolate(condition, size=target_size)\n",
        "            real = nn.functional.interpolate(real, size=target_size)\n",
        "\n",
        "        return real, condition"
      ]
    },
    {
      "cell_type": "code",
      "execution_count": null,
      "metadata": {
        "id": "qB825bIlYqRx"
      },
      "outputs": [],
      "source": [
        "class DownSampleConv(nn.Module):\n",
        "\n",
        "    def __init__(self, in_channels, out_channels, kernel=4, strides=2, padding=1, activation=True, batchnorm=True):\n",
        "        \"\"\"\n",
        "        Paper details:\n",
        "        - C64-C128-C256-C512-C512-C512-C512-C512\n",
        "        - All convolutions are 4×4 spatial filters applied with stride 2\n",
        "        - Convolutions in the encoder downsample by a factor of 2\n",
        "        \"\"\"\n",
        "        super().__init__()\n",
        "        self.activation = activation\n",
        "        self.batchnorm = batchnorm\n",
        "\n",
        "        self.conv = nn.Conv2d(in_channels, out_channels, kernel, strides, padding)\n",
        "\n",
        "        if batchnorm:\n",
        "            self.bn = nn.BatchNorm2d(out_channels)\n",
        "\n",
        "        if activation:\n",
        "            self.act = nn.LeakyReLU(0.2)\n",
        "\n",
        "    def forward(self, x):\n",
        "        x = self.conv(x)\n",
        "        if self.batchnorm:\n",
        "            x = self.bn(x)\n",
        "        if self.activation:\n",
        "            x = self.act(x)\n",
        "        return x"
      ]
    },
    {
      "cell_type": "code",
      "execution_count": null,
      "metadata": {
        "id": "ptFr3UlbYqRx"
      },
      "outputs": [],
      "source": [
        "class UpSampleConv(nn.Module):\n",
        "\n",
        "    def __init__(\n",
        "        self,\n",
        "        in_channels,\n",
        "        out_channels,\n",
        "        kernel=4,\n",
        "        strides=2,\n",
        "        padding=1,\n",
        "        activation=True,\n",
        "        batchnorm=True,\n",
        "        dropout=False\n",
        "    ):\n",
        "        super().__init__()\n",
        "        self.activation = activation\n",
        "        self.batchnorm = batchnorm\n",
        "        self.dropout = dropout\n",
        "\n",
        "        self.deconv = nn.ConvTranspose2d(in_channels, out_channels, kernel, strides, padding)\n",
        "\n",
        "        if batchnorm:\n",
        "            self.bn = nn.BatchNorm2d(out_channels)\n",
        "\n",
        "        if activation:\n",
        "            self.act = nn.ReLU(True)\n",
        "\n",
        "        if dropout:\n",
        "            self.drop = nn.Dropout2d(0.5)\n",
        "\n",
        "    def forward(self, x):\n",
        "        x = self.deconv(x)\n",
        "        if self.batchnorm:\n",
        "            x = self.bn(x)\n",
        "\n",
        "        if self.dropout:\n",
        "            x = self.drop(x)\n",
        "        return x"
      ]
    },
    {
      "cell_type": "code",
      "execution_count": null,
      "metadata": {
        "id": "3z1KnIT9YqRx"
      },
      "outputs": [],
      "source": [
        "class Generator(nn.Module):\n",
        "\n",
        "    def __init__(self, in_channels, out_channels):\n",
        "        \"\"\"\n",
        "        Paper details:\n",
        "        - Encoder: C64-C128-C256-C512-C512-C512-C512-C512\n",
        "        - All convolutions are 4×4 spatial filters applied with stride 2\n",
        "        - Convolutions in the encoder downsample by a factor of 2\n",
        "        - Decoder: CD512-CD1024-CD1024-C1024-C1024-C512 -C256-C128\n",
        "        \"\"\"\n",
        "        super().__init__()\n",
        "\n",
        "        # encoder/donwsample convs\n",
        "        self.encoders = [\n",
        "            DownSampleConv(in_channels, 64, batchnorm=False),  # bs x 64 x 128 x 128\n",
        "            DownSampleConv(64, 128),  # bs x 128 x 64 x 64\n",
        "            DownSampleConv(128, 256),  # bs x 256 x 32 x 32\n",
        "            DownSampleConv(256, 512),  # bs x 512 x 16 x 16\n",
        "            DownSampleConv(512, 512),  # bs x 512 x 8 x 8\n",
        "            DownSampleConv(512, 512),  # bs x 512 x 4 x 4\n",
        "            DownSampleConv(512, 512),  # bs x 512 x 2 x 2\n",
        "            DownSampleConv(512, 512, batchnorm=False),  # bs x 512 x 1 x 1\n",
        "        ]\n",
        "\n",
        "        # decoder/upsample convs\n",
        "        self.decoders = [\n",
        "            UpSampleConv(512, 512, dropout=True),  # bs x 512 x 2 x 2\n",
        "            UpSampleConv(1024, 512, dropout=True),  # bs x 512 x 4 x 4\n",
        "            UpSampleConv(1024, 512, dropout=True),  # bs x 512 x 8 x 8\n",
        "            UpSampleConv(1024, 512),  # bs x 512 x 16 x 16\n",
        "            UpSampleConv(1024, 256),  # bs x 256 x 32 x 32\n",
        "            UpSampleConv(512, 128),  # bs x 128 x 64 x 64\n",
        "            UpSampleConv(256, 64),  # bs x 64 x 128 x 128\n",
        "        ]\n",
        "        self.decoder_channels = [512, 512, 512, 512, 256, 128, 64]\n",
        "        self.final_conv = nn.ConvTranspose2d(64, out_channels, kernel_size=4, stride=2, padding=1)\n",
        "        self.tanh = nn.Tanh()\n",
        "\n",
        "        self.encoders = nn.ModuleList(self.encoders)\n",
        "        self.decoders = nn.ModuleList(self.decoders)\n",
        "\n",
        "    def forward(self, x):\n",
        "        skips_cons = []\n",
        "        for encoder in self.encoders:\n",
        "            x = encoder(x)\n",
        "\n",
        "            skips_cons.append(x)\n",
        "\n",
        "        skips_cons = list(reversed(skips_cons[:-1]))\n",
        "        decoders = self.decoders[:-1]\n",
        "\n",
        "        for decoder, skip in zip(decoders, skips_cons):\n",
        "            x = decoder(x)\n",
        "            # print(x.shape, skip.shape)\n",
        "            x = torch.cat((x, skip), axis=1)\n",
        "\n",
        "        x = self.decoders[-1](x)\n",
        "        # print(x.shape)\n",
        "        x = self.final_conv(x)\n",
        "        return self.tanh(x)"
      ]
    },
    {
      "cell_type": "code",
      "execution_count": null,
      "metadata": {
        "id": "m_CHP8TSYqRx"
      },
      "outputs": [],
      "source": [
        "class PatchGAN(nn.Module):\n",
        "\n",
        "    def __init__(self, input_channels):\n",
        "        super().__init__()\n",
        "        self.d1 = DownSampleConv(input_channels, 64, batchnorm=False)\n",
        "        self.d2 = DownSampleConv(64, 128)\n",
        "        self.d3 = DownSampleConv(128, 256)\n",
        "        self.d4 = DownSampleConv(256, 512)\n",
        "        self.final = nn.Conv2d(512, 1, kernel_size=1)\n",
        "\n",
        "    def forward(self, x, y):\n",
        "        x = torch.cat([x, y], axis=1)\n",
        "        x0 = self.d1(x)\n",
        "        x1 = self.d2(x0)\n",
        "        x2 = self.d3(x1)\n",
        "        x3 = self.d4(x2)\n",
        "        xn = self.final(x3)\n",
        "        return xn"
      ]
    },
    {
      "cell_type": "code",
      "execution_count": null,
      "metadata": {
        "id": "FAHodvuGYqRy"
      },
      "outputs": [],
      "source": [
        "adversarial_loss = nn.BCEWithLogitsLoss()\n",
        "\n",
        "reconstruction_loss = nn.L1Loss()"
      ]
    },
    {
      "cell_type": "code",
      "execution_count": null,
      "metadata": {
        "id": "a_eWGW9UYqRy"
      },
      "outputs": [],
      "source": [
        "# https://stackoverflow.com/questions/49433936/how-to-initialize-weights-in-pytorch\n",
        "\n",
        "import torch\n",
        "import matplotlib.pyplot as plt  # Import for using plt\n",
        "\n",
        "\n",
        "def _weights_init(m):\n",
        "    if isinstance(m, (nn.Conv2d, nn.ConvTranspose2d)):\n",
        "        torch.nn.init.normal_(m.weight, 0.0, 0.02)\n",
        "    if isinstance(m, nn.BatchNorm2d):\n",
        "        torch.nn.init.normal_(m.weight, 0.0, 0.02)\n",
        "        torch.nn.init.constant_(m.bias, 0)\n",
        "\n",
        "def display_progress(cond, real, fake, figsize=(10,5)):\n",
        "    cond = cond.detach().cpu().permute(1, 2, 0)\n",
        "    fake = fake.detach().cpu().permute(1, 2, 0)\n",
        "    real = real.detach().cpu().permute(1, 2, 0)\n",
        "\n",
        "    fig, ax = plt.subplots(1, 3, figsize=figsize)\n",
        "    ax[0].imshow(cond)\n",
        "    ax[1].imshow(real)\n",
        "    ax[2].imshow(fake)\n",
        "    plt.show()"
      ]
    },
    {
      "cell_type": "markdown",
      "metadata": {
        "id": "Yqr5eeGoYqRy"
      },
      "source": [
        "# Old"
      ]
    },
    {
      "cell_type": "code",
      "execution_count": null,
      "metadata": {
        "id": "FHhSshRaYqRy"
      },
      "outputs": [],
      "source": [
        "# Pix2Pix, CycleGAN, AttentionGAN (https://github.com/Ha0Tang/AttentionGAN?tab=readme-ov-file)\n",
        "\n",
        "\n",
        "\n",
        "\n",
        "class Pix2Pix(pl.LightningModule):\n",
        "\n",
        "    def __init__(self, in_channels, out_channels, learning_rate=0.0002, lambda_recon=200, display_step=25):\n",
        "\n",
        "        super().__init__()\n",
        "        self.save_hyperparameters()\n",
        "\n",
        "        self.automatic_optimization = False\n",
        "\n",
        "        self.display_step = display_step\n",
        "        self.gen = Generator(in_channels, out_channels)\n",
        "        self.patch_gan = PatchGAN(in_channels + out_channels)\n",
        "\n",
        "        # intializing weights\n",
        "        self.gen = self.gen.apply(_weights_init)\n",
        "        self.patch_gan = self.patch_gan.apply(_weights_init)\n",
        "\n",
        "        self.adversarial_criterion = nn.BCEWithLogitsLoss()\n",
        "        self.recon_criterion = nn.L1Loss()\n",
        "\n",
        "    def _gen_step(self, real_images, conditioned_images):\n",
        "        # Pix2Pix has adversarial and a reconstruction loss\n",
        "        # First calculate the adversarial loss\n",
        "        fake_images = self.gen(conditioned_images)\n",
        "        disc_logits = self.patch_gan(fake_images, conditioned_images)\n",
        "        adversarial_loss = self.adversarial_criterion(disc_logits, torch.ones_like(disc_logits))\n",
        "\n",
        "        # calculate reconstruction loss\n",
        "        recon_loss = self.recon_criterion(fake_images, real_images)\n",
        "        lambda_recon = self.hparams.lambda_recon\n",
        "\n",
        "        return adversarial_loss + lambda_recon * recon_loss\n",
        "\n",
        "    def _disc_step(self, real_images, conditioned_images):\n",
        "        fake_images = self.gen(conditioned_images).detach()\n",
        "        fake_logits = self.patch_gan(fake_images, conditioned_images)\n",
        "\n",
        "        real_logits = self.patch_gan(real_images, conditioned_images)\n",
        "\n",
        "        fake_loss = self.adversarial_criterion(fake_logits, torch.zeros_like(fake_logits))\n",
        "        real_loss = self.adversarial_criterion(real_logits, torch.ones_like(real_logits))\n",
        "        return (real_loss + fake_loss) / 2\n",
        "\n",
        "    def configure_optimizers(self):\n",
        "        lr = self.hparams.learning_rate\n",
        "        gen_opt = torch.optim.Adam(self.gen.parameters(), lr=lr)\n",
        "        disc_opt = torch.optim.Adam(self.patch_gan.parameters(), lr=lr)\n",
        "        return disc_opt, gen_opt\n",
        "\n",
        "    ###########################################\n",
        "    def validation_step(self, batch, batch_idx):\n",
        "            '''\n",
        "            Hàm này nhận vào một batch\n",
        "            lấy kết quả của mô hình và tính loss\n",
        "\n",
        "            '''\n",
        "            from torchmetrics.functional.image import structural_similarity_index_measure\n",
        "            from torchmetrics.functional.image import peak_signal_noise_ratio\n",
        "\n",
        "            # sketch_img, photo_img = batch\n",
        "            real, condition = batch\n",
        "            # outputs = self.G_basestyle(sketch_img)\n",
        "            fake = self.gen(condition).detach()\n",
        "            # ssim = self.default_evaluator.run([[fake, real]]).metrics['ssim']\n",
        "            ssim = structural_similarity_index_measure(fake, real)\n",
        "            psnr = peak_signal_noise_ratio(fake, real)\n",
        "            self.log(\"SSIM_val\", ssim)\n",
        "            print(f\"SSIM_val: {ssim}\")\n",
        "            self.log(\"PSNR_val\", psnr)\n",
        "            print(f\"PSNR_val: {psnr}\")\n",
        "            # self.log(\"SSIM_valid\", ssim)\n",
        "            # return ssim\n",
        "\n",
        "    def test_step(self, batch, batch_idx):\n",
        "            \n",
        "            from torchmetrics.functional.image import structural_similarity_index_measure\n",
        "            from torchmetrics.functional.image import peak_signal_noise_ratio\n",
        "\n",
        "            # sketch_img, photo_img = batch\n",
        "            real, condition = batch\n",
        "            # outputs = self.G_basestyle(sketch_img)\n",
        "            fake = self.gen(condition).detach()\n",
        "            # ssim = self.default_evaluator.run([[fake, real]]).metrics['ssim']\n",
        "            ssim = structural_similarity_index_measure(fake, real)\n",
        "            psnr = peak_signal_noise_ratio(fake, real)\n",
        "            # self.log(\"SSIM_train\", ssim)\n",
        "            self.log(\"SSIM_heldout_set\", ssim)\n",
        "            print(f\"SSIM_heldout_set: {ssim}\")\n",
        "            self.log(\"PSNR_val\", psnr)\n",
        "            print(f\"PSNR_val: {psnr}\")\n",
        "            # return ssim\n",
        "\n",
        "    ###########################################\n",
        "\n",
        "    def training_step(self, batch, batch_idx):\n",
        "        real, condition = batch\n",
        "\n",
        "        gen_opt, disc_opt = self.optimizers()\n",
        "\n",
        "\n",
        "        # loss = None\n",
        "        # if batch_idx % 2 == 0:  # Train discriminator on even batches\n",
        "        #   gen_opt.zero_grad()   \n",
        "        #   loss = self._gen_step(real, condition)\n",
        "        #   self.manual_backward(loss)\n",
        "        #   # self.manual_backward(loss, gen_opt)\n",
        "        #   gen_opt.step()\n",
        "        #   self.untoggle_optimizer(gen_opt)\n",
        "        #   print('Generator Loss', loss)\n",
        "\n",
        "        # else:\n",
        "        #   disc_opt.zero_grad()\n",
        "        #   loss = self._disc_step(real, condition)\n",
        "        #   self.manual_backward(loss)\n",
        "        #   # self.manual_backward(loss, disc_opt)\n",
        "        #   disc_opt.step()\n",
        "        #   self.untoggle_optimizer(disc_opt)\n",
        "        #   print('PatchGAN Loss', loss)\n",
        "\n",
        "        loss = None\n",
        "        if batch_idx % 2 == 0:  # Train discriminator on even batches\n",
        "          # disc_opt.zero_grad()\n",
        "          loss = self._gen_step(real, condition)\n",
        "        #   loss = self._disc_step(real, condition)\n",
        "          self.manual_backward(loss)\n",
        "          disc_opt.step()\n",
        "          # print('PatchGAN Loss', loss)\n",
        "        else:\n",
        "          # gen_opt.zero_grad()\n",
        "        #   loss = self._gen_step(real, condition)\n",
        "          loss = self._disc_step(real, condition)\n",
        "          self.manual_backward(loss)\n",
        "          gen_opt.step()\n",
        "          # print('Generator Loss', loss)\n",
        "        \n",
        "        self.log(\"train_loss\", loss, on_step=True, on_epoch=True, prog_bar=True, logger=True)\n",
        "\n",
        "        if self.current_epoch%self.display_step==0 and batch_idx==0:\n",
        "            print('PatchGAN Loss', loss)\n",
        "            print('Generator Loss', loss)\n",
        "            fake = self.gen(condition).detach()\n",
        "            display_progress(condition[0], fake[0], real[0])\n",
        "            # self.log(\"train_loss\", loss, on_step=True, on_epoch=True, prog_bar=True, logger=True)\n",
        "            \n",
        "        return loss"
      ]
    },
    {
      "cell_type": "code",
      "execution_count": null,
      "metadata": {
        "colab": {
          "base_uri": "https://localhost:8080/",
          "height": 1000,
          "referenced_widgets": [
            "b1056d32ba424177b559291396289a26",
            "59548eaae4dc4f4f96f25259b40deae3",
            "84b397a5070142aeb7889e8bc6c37d02",
            "709a32ea4a2841019d2b626102414b7f",
            "de5fd2115852487d80d967f1f69e6b9c",
            "31e499dee226485f89d9c9b073f012ae",
            "65f26eb6de1a42be864ba4668dd0286b",
            "f777fdcd7fa340c7bb7bb1020f6cf6cc",
            "201abdb5733c4fbc96495c97bd622726",
            "1cadc9681bb64b94a360413affc54fd3",
            "5cc30ceb83fa48a1b1e306de335cc0a5"
          ]
        },
        "id": "0ogzHswoYqRz",
        "outputId": "84c374cf-d04b-438f-92e4-7fe51f66ede9"
      },
      "outputs": [],
      "source": [
        "# target_size = None\n",
        "# lr=0.0002\n",
        "# lambda_recon=200\n",
        "# batch_size = 128\n",
        "\n",
        "# display_step = True\n",
        "# dataset = FacadesDataset(path, target_size=target_size)\n",
        "# dataloader = DataLoader(dataset, batch_size=batch_size, shuffle=True)\n",
        "\n",
        "# pix2pix = Pix2Pix(3, 3, learning_rate=lr, lambda_recon=lambda_recon, display_step=display_step)\n",
        "# trainer = pl.Trainer(max_epochs=2000)\n",
        "# trainer.fit(pix2pix, dataloader)     "
      ]
    },
    {
      "cell_type": "markdown",
      "metadata": {},
      "source": [
        "# Dataset check experiment"
      ]
    },
    {
      "cell_type": "code",
      "execution_count": null,
      "metadata": {},
      "outputs": [],
      "source": [
        "dataset"
      ]
    },
    {
      "cell_type": "code",
      "execution_count": null,
      "metadata": {
        "id": "clW9-w-xYqRz"
      },
      "outputs": [],
      "source": [
        "for batch_orig in dataloader:\n",
        "    # print(batch)\n",
        "    break"
      ]
    },
    {
      "cell_type": "code",
      "execution_count": null,
      "metadata": {
        "id": "hzXCTgjOYqRz"
      },
      "outputs": [],
      "source": [
        "batch[0].shape"
      ]
    },
    {
      "cell_type": "code",
      "execution_count": null,
      "metadata": {},
      "outputs": [],
      "source": [
        "from DataLoaderManager import DataLoaderManager\n",
        "from torchvision import transforms\n",
        "\n",
        "\n",
        "# Example usage:\n",
        "transform = transforms.Compose([\n",
        "    transforms.Resize((32, 32)),  # Resize the image\n",
        "    transforms.ToTensor(),           # Convert to tensor\n",
        "    transforms.Normalize(mean=[0.485, 0.456, 0.406], std=[0.229, 0.224, 0.225])  # Normalize\n",
        "])\n",
        "\n",
        "data_loader_manager = DataLoaderManager(root_dir='SIDD_Small_sRGB_Only/SIDD_Small_sRGB_Only/Data/', transform=transform)\n",
        "dataloader, val_dataloader = data_loader_manager.process_dataloaders(batch_size=128, shuffle=True)"
      ]
    },
    {
      "cell_type": "code",
      "execution_count": null,
      "metadata": {},
      "outputs": [],
      "source": [
        "for batch in dataloader:\n",
        "    # print(batch)\n",
        "    break"
      ]
    },
    {
      "cell_type": "code",
      "execution_count": null,
      "metadata": {},
      "outputs": [],
      "source": [
        "len(batch_orig), batch_orig[0].shape"
      ]
    },
    {
      "cell_type": "code",
      "execution_count": null,
      "metadata": {},
      "outputs": [],
      "source": [
        "len(batch), batch[0].shape"
      ]
    },
    {
      "cell_type": "markdown",
      "metadata": {},
      "source": [
        "# Dataset Experiment Check end"
      ]
    },
    {
      "cell_type": "code",
      "execution_count": null,
      "metadata": {},
      "outputs": [],
      "source": [
        "# Make a held out set for each set of Dataset\n",
        "# Make npy file of that\n",
        "# Make sure that is not being used again    \n",
        "\n",
        "# THIS IS TO CREATE THE HELDOUT LIST\n",
        "# import glob\n",
        "# from sklearn.model_selection import train_test_split\n",
        "\n",
        "\n",
        "# root_dir = 'SIDD_Small_sRGB_Only/SIDD_Small_sRGB_Only/Data/*'\n",
        "# dataset =  glob.glob(root_dir)\n",
        "\n",
        "# train_list, test_list = train_test_split(dataset, test_size=0.2, random_state=42)\n",
        "# heldout_list = [os.path.basename(folder_name) for folder_name in test_list]\n",
        "# print(heldout_list)\n",
        "\n",
        "\n",
        "\n",
        "# folder_list = os.listdir(root_dir) \n",
        "# # - heldout_list\n",
        "# heldout_list = ['0135_006_IP_00400_00400_5500_N', '0138_006_IP_00100_00100_3200_L', '0180_008_GP_00100_00100_5500_N', '0070_003_IP_02000_04000_3200_N', '0121_006_N6_03200_01000_3200_L', '0035_002_GP_00800_00350_3200_N', '0130_006_GP_00400_00400_4400_N', '0065_003_GP_10000_08460_4400_N', '0129_006_GP_00100_00100_4400_N', '0181_008_GP_00800_00800_5500_N', '0022_001_N6_00100_00060_5500_N', '0108_005_GP_06400_06400_4400_N', '0017_001_GP_00100_00060_5500_N', '0086_004_GP_00100_00100_5500_L', '0029_001_IP_00800_01000_5500_N', '0036_002_GP_06400_03200_3200_N', '0164_007_IP_00400_00400_3200_N', '0188_008_IP_00100_00100_3200_N', '0126_006_S6_00400_00200_4400_L', '0018_001_GP_00100_00160_5500_L', '0097_005_N6_03200_02000_3200_L', '0020_001_GP_00800_00350_5500_N', '0014_001_S6_03200_01250_3200_N', '0011_001_S6_00800_00500_5500_L', '0038_002_GP_00800_00640_3200_L', '0192_009_IP_00100_00200_3200_N', '0125_006_S6_00100_00050_4400_L', '0072_003_IP_01000_02000_5500_L', '0167_008_N6_00100_00050_4400_L', '0134_006_IP_00100_00100_5500_N', '0173_008_G4_00400_00400_4400_N', '0101_005_S6_00100_00050_4400_L']\n",
        "# new_list = [img_name for img_name in folder_list if img_name not in heldout_list]\n",
        "\n",
        "# len(new_list), len(folder_list), len(heldout_list)"
      ]
    },
    {
      "cell_type": "code",
      "execution_count": null,
      "metadata": {},
      "outputs": [],
      "source": [
        "## CREATE DATASETS\n",
        "\n",
        "\n",
        "# from DataLoaderManager import DataLoaderManager\n",
        "# from torchvision import transforms\n",
        "\n",
        "# batch_size = 128\n",
        "# # Example usage:\n",
        "# transform = transforms.Compose([\n",
        "#     transforms.Resize((256, 256)),  # Resize the image\n",
        "#     transforms.ToTensor(),          # Convert to tensor\n",
        "#     transforms.Normalize(mean=[0.485, 0.456, 0.406], std=[0.229, 0.224, 0.225])  # Normalize\n",
        "# ])\n",
        "\n",
        "\n",
        "# root_dir='SIDD_Small_sRGB/SIDD_Small_sRGB/Data/'\n",
        "# base_filename = 'SIDD_Small_sRGB'\n",
        "\n",
        "# data_loader_manager = DataLoaderManager(root_dir=root_dir, train_file='heldout_test',test_file=base_filename,make_held_out_set=True,transform=transform)\n",
        "# dataloader, val_dataloader = data_loader_manager.process_dataloaders(batch_size=batch_size, shuffle=True)\n",
        "# print(f\"Heldout Dataset Size: {len(dataloader.dataset)} \\n\\n\\n\")\n",
        "\n",
        "\n",
        "\n",
        "# data_loader_manager = DataLoaderManager(root_dir=root_dir, train_file=base_filename,test_file=base_filename,make_held_out_set=False,transform=transform)\n",
        "# dataloader, val_dataloader = data_loader_manager.process_dataloaders(batch_size=batch_size, shuffle=True)\n",
        "# print(f\"Train Dataset Size: {len(dataloader.dataset)}\")\n",
        "# print(f\"Test Dataset Size: {len(val_dataloader.dataset)} \\n\\n\\n\")\n",
        "\n",
        "# root_dir='SIDD_Medium_sRGB/SIDD_Medium_sRGB/Data/'\n",
        "# base_filename = 'SIDD_Medium_sRGB'\n",
        "\n",
        "# data_loader_manager = DataLoaderManager(root_dir=root_dir, train_file=base_filename,test_file=base_filename,make_held_out_set=False,transform=transform)\n",
        "# dataloader, val_dataloader = data_loader_manager.process_dataloaders(batch_size=batch_size, shuffle=True)\n",
        "# print(f\"Train Dataset Size: {len(dataloader.dataset)}\")\n",
        "# print(f\"Test Dataset Size: {len(val_dataloader.dataset)}\")"
      ]
    },
    {
      "cell_type": "markdown",
      "metadata": {},
      "source": [
        "# Small Dataset"
      ]
    },
    {
      "cell_type": "code",
      "execution_count": 13,
      "metadata": {},
      "outputs": [],
      "source": [
        "from DataLoaderManager import DataLoaderManager\n",
        "from torchvision import transforms\n",
        "\n",
        "batch_size = 128\n",
        "# Example usage:\n",
        "transform = transforms.Compose([\n",
        "    transforms.Resize((256, 256)),  # Resize the image\n",
        "    transforms.ToTensor(),          # Convert to tensor\n",
        "    transforms.Normalize(mean=[0.485, 0.456, 0.406], std=[0.229, 0.224, 0.225])  # Normalize\n",
        "])\n",
        "\n",
        "\n",
        "target_size = None\n",
        "lr=0.0002\n",
        "lambda_recon=200\n",
        "# batch_size = 128\n",
        "\n",
        "\n",
        "display_step = 250\n",
        "\n",
        "root_dir='SIDD_Small_sRGB/SIDD_Small_sRGB/Data/'\n",
        "base_filename = 'SIDD_Small_sRGB'\n",
        "\n",
        "data_loader_manager = DataLoaderManager(root_dir=root_dir, train_file=base_filename,test_file=base_filename,make_held_out_set=False,transform=transform)\n",
        "dataloader, val_dataloader = data_loader_manager.process_dataloaders(batch_size=batch_size, shuffle=True)\n",
        "\n",
        "print(f\"Train Dataset Size: {len(dataloader.dataset)}\")\n",
        "print(f\"Test Dataset Size: {len(val_dataloader.dataset)}\")\n",
        "\n",
        "\n",
        "pix2pix = Pix2Pix(3, 3, learning_rate=lr, lambda_recon=lambda_recon, display_step=display_step)\n",
        "trainer = pl.Trainer(max_epochs=1)\n",
        "trainer.fit(pix2pix, dataloader)"
      ]
    },
    {
      "cell_type": "code",
      "execution_count": null,
      "metadata": {},
      "outputs": [],
      "source": [
        "# automatically auto-loads the best weights from the previous run\n",
        "# trainer.validate(dataloaders=val_dataloader,ckpt_path='lightning_logs/version_11/checkpoints/epoch=0-step=1.ckpt')\n",
        "trainer.validate(dataloaders=val_dataloader)"
      ]
    },
    {
      "cell_type": "markdown",
      "metadata": {},
      "source": [
        "# Medium Dataset"
      ]
    },
    {
      "cell_type": "code",
      "execution_count": null,
      "metadata": {},
      "outputs": [],
      "source": [
        "target_size = None\n",
        "lr=0.0002\n",
        "lambda_recon=200\n",
        "# batch_size = 128\n",
        "\n",
        "\n",
        "display_step = 250\n",
        "\n",
        "root_dir='SIDD_Medium_sRGB/SIDD_Medium_sRGB/Data/'\n",
        "base_filename = 'SIDD_Medium_sRGB'\n",
        "\n",
        "data_loader_manager = DataLoaderManager(root_dir=root_dir, train_file=base_filename,test_file=base_filename,make_held_out_set=False,transform=transform)\n",
        "dataloader, val_dataloader = data_loader_manager.process_dataloaders(batch_size=batch_size, shuffle=True)\n",
        "\n",
        "pix2pix = Pix2Pix(3, 3, learning_rate=lr, lambda_recon=lambda_recon, display_step=display_step)\n",
        "trainer = pl.Trainer(max_epochs=2000)\n",
        "trainer.fit(pix2pix, dataloader)     "
      ]
    },
    {
      "cell_type": "code",
      "execution_count": null,
      "metadata": {},
      "outputs": [],
      "source": [
        "# automatically auto-loads the best weights from the previous run\n",
        "trainer.test(dataloaders=val_dataloader)"
      ]
    },
    {
      "cell_type": "markdown",
      "metadata": {},
      "source": [
        "# Reference"
      ]
    },
    {
      "cell_type": "code",
      "execution_count": null,
      "metadata": {},
      "outputs": [],
      "source": [
        "target_size = None\n",
        "lr=0.0002\n",
        "lambda_recon=200\n",
        "# batch_size = 128\n",
        "\n",
        "\n",
        "display_step = True\n",
        "# dataset = FacadesDataset(path, target_size=target_size)\n",
        "# dataloader = DataLoader(dataset, batch_size=batch_size, shuffle=True)\n",
        "\n",
        "pix2pix = Pix2Pix(3, 3, learning_rate=lr, lambda_recon=lambda_recon, display_step=display_step)\n",
        "trainer = pl.Trainer(max_epochs=2000)\n",
        "trainer.fit(pix2pix, dataloader)    "
      ]
    },
    {
      "cell_type": "code",
      "execution_count": null,
      "metadata": {},
      "outputs": [],
      "source": [
        "for batch in dataloader:\n",
        "    break"
      ]
    },
    {
      "cell_type": "code",
      "execution_count": null,
      "metadata": {},
      "outputs": [],
      "source": [
        "img_val = 100\n",
        "\n",
        "for img_val in range(1,20):\n",
        "    display_progress(batch[0][img_val], batch[0][img_val], batch[1][img_val])"
      ]
    },
    {
      "cell_type": "code",
      "execution_count": null,
      "metadata": {},
      "outputs": [],
      "source": [
        "batch[0][0].shape"
      ]
    },
    {
      "cell_type": "code",
      "execution_count": null,
      "metadata": {},
      "outputs": [],
      "source": [
        "batch[1][0].shape"
      ]
    },
    {
      "cell_type": "code",
      "execution_count": null,
      "metadata": {},
      "outputs": [],
      "source": []
    }
  ],
  "metadata": {
    "accelerator": "GPU",
    "colab": {
      "collapsed_sections": [
        "PbGW4pRoYqRy"
      ],
      "gpuType": "T4",
      "provenance": []
    },
    "kernelspec": {
      "display_name": "Python 3",
      "name": "python3"
    },
    "language_info": {
      "codemirror_mode": {
        "name": "ipython",
        "version": 3
      },
      "file_extension": ".py",
      "mimetype": "text/x-python",
      "name": "python",
      "nbconvert_exporter": "python",
      "pygments_lexer": "ipython3",
      "version": "3.9.19"
    },
    "orig_nbformat": 4,
    "widgets": {
      "application/vnd.jupyter.widget-state+json": {
        "1cadc9681bb64b94a360413affc54fd3": {
          "model_module": "@jupyter-widgets/base",
          "model_module_version": "1.2.0",
          "model_name": "LayoutModel",
          "state": {
            "_model_module": "@jupyter-widgets/base",
            "_model_module_version": "1.2.0",
            "_model_name": "LayoutModel",
            "_view_count": null,
            "_view_module": "@jupyter-widgets/base",
            "_view_module_version": "1.2.0",
            "_view_name": "LayoutView",
            "align_content": null,
            "align_items": null,
            "align_self": null,
            "border": null,
            "bottom": null,
            "display": null,
            "flex": null,
            "flex_flow": null,
            "grid_area": null,
            "grid_auto_columns": null,
            "grid_auto_flow": null,
            "grid_auto_rows": null,
            "grid_column": null,
            "grid_gap": null,
            "grid_row": null,
            "grid_template_areas": null,
            "grid_template_columns": null,
            "grid_template_rows": null,
            "height": null,
            "justify_content": null,
            "justify_items": null,
            "left": null,
            "margin": null,
            "max_height": null,
            "max_width": null,
            "min_height": null,
            "min_width": null,
            "object_fit": null,
            "object_position": null,
            "order": null,
            "overflow": null,
            "overflow_x": null,
            "overflow_y": null,
            "padding": null,
            "right": null,
            "top": null,
            "visibility": null,
            "width": null
          }
        },
        "201abdb5733c4fbc96495c97bd622726": {
          "model_module": "@jupyter-widgets/controls",
          "model_module_version": "1.5.0",
          "model_name": "ProgressStyleModel",
          "state": {
            "_model_module": "@jupyter-widgets/controls",
            "_model_module_version": "1.5.0",
            "_model_name": "ProgressStyleModel",
            "_view_count": null,
            "_view_module": "@jupyter-widgets/base",
            "_view_module_version": "1.2.0",
            "_view_name": "StyleView",
            "bar_color": null,
            "description_width": ""
          }
        },
        "31e499dee226485f89d9c9b073f012ae": {
          "model_module": "@jupyter-widgets/base",
          "model_module_version": "1.2.0",
          "model_name": "LayoutModel",
          "state": {
            "_model_module": "@jupyter-widgets/base",
            "_model_module_version": "1.2.0",
            "_model_name": "LayoutModel",
            "_view_count": null,
            "_view_module": "@jupyter-widgets/base",
            "_view_module_version": "1.2.0",
            "_view_name": "LayoutView",
            "align_content": null,
            "align_items": null,
            "align_self": null,
            "border": null,
            "bottom": null,
            "display": null,
            "flex": null,
            "flex_flow": null,
            "grid_area": null,
            "grid_auto_columns": null,
            "grid_auto_flow": null,
            "grid_auto_rows": null,
            "grid_column": null,
            "grid_gap": null,
            "grid_row": null,
            "grid_template_areas": null,
            "grid_template_columns": null,
            "grid_template_rows": null,
            "height": null,
            "justify_content": null,
            "justify_items": null,
            "left": null,
            "margin": null,
            "max_height": null,
            "max_width": null,
            "min_height": null,
            "min_width": null,
            "object_fit": null,
            "object_position": null,
            "order": null,
            "overflow": null,
            "overflow_x": null,
            "overflow_y": null,
            "padding": null,
            "right": null,
            "top": null,
            "visibility": null,
            "width": null
          }
        },
        "59548eaae4dc4f4f96f25259b40deae3": {
          "model_module": "@jupyter-widgets/controls",
          "model_module_version": "1.5.0",
          "model_name": "HTMLModel",
          "state": {
            "_dom_classes": [],
            "_model_module": "@jupyter-widgets/controls",
            "_model_module_version": "1.5.0",
            "_model_name": "HTMLModel",
            "_view_count": null,
            "_view_module": "@jupyter-widgets/controls",
            "_view_module_version": "1.5.0",
            "_view_name": "HTMLView",
            "description": "",
            "description_tooltip": null,
            "layout": "IPY_MODEL_31e499dee226485f89d9c9b073f012ae",
            "placeholder": "​",
            "style": "IPY_MODEL_65f26eb6de1a42be864ba4668dd0286b",
            "value": "Epoch 92:   0%"
          }
        },
        "5cc30ceb83fa48a1b1e306de335cc0a5": {
          "model_module": "@jupyter-widgets/controls",
          "model_module_version": "1.5.0",
          "model_name": "DescriptionStyleModel",
          "state": {
            "_model_module": "@jupyter-widgets/controls",
            "_model_module_version": "1.5.0",
            "_model_name": "DescriptionStyleModel",
            "_view_count": null,
            "_view_module": "@jupyter-widgets/base",
            "_view_module_version": "1.2.0",
            "_view_name": "StyleView",
            "description_width": ""
          }
        },
        "65f26eb6de1a42be864ba4668dd0286b": {
          "model_module": "@jupyter-widgets/controls",
          "model_module_version": "1.5.0",
          "model_name": "DescriptionStyleModel",
          "state": {
            "_model_module": "@jupyter-widgets/controls",
            "_model_module_version": "1.5.0",
            "_model_name": "DescriptionStyleModel",
            "_view_count": null,
            "_view_module": "@jupyter-widgets/base",
            "_view_module_version": "1.2.0",
            "_view_name": "StyleView",
            "description_width": ""
          }
        },
        "709a32ea4a2841019d2b626102414b7f": {
          "model_module": "@jupyter-widgets/controls",
          "model_module_version": "1.5.0",
          "model_name": "HTMLModel",
          "state": {
            "_dom_classes": [],
            "_model_module": "@jupyter-widgets/controls",
            "_model_module_version": "1.5.0",
            "_model_name": "HTMLModel",
            "_view_count": null,
            "_view_module": "@jupyter-widgets/controls",
            "_view_module_version": "1.5.0",
            "_view_name": "HTMLView",
            "description": "",
            "description_tooltip": null,
            "layout": "IPY_MODEL_1cadc9681bb64b94a360413affc54fd3",
            "placeholder": "​",
            "style": "IPY_MODEL_5cc30ceb83fa48a1b1e306de335cc0a5",
            "value": " 0/4 [00:00&lt;?, ?it/s, v_num=5]"
          }
        },
        "84b397a5070142aeb7889e8bc6c37d02": {
          "model_module": "@jupyter-widgets/controls",
          "model_module_version": "1.5.0",
          "model_name": "FloatProgressModel",
          "state": {
            "_dom_classes": [],
            "_model_module": "@jupyter-widgets/controls",
            "_model_module_version": "1.5.0",
            "_model_name": "FloatProgressModel",
            "_view_count": null,
            "_view_module": "@jupyter-widgets/controls",
            "_view_module_version": "1.5.0",
            "_view_name": "ProgressView",
            "bar_style": "",
            "description": "",
            "description_tooltip": null,
            "layout": "IPY_MODEL_f777fdcd7fa340c7bb7bb1020f6cf6cc",
            "max": 4,
            "min": 0,
            "orientation": "horizontal",
            "style": "IPY_MODEL_201abdb5733c4fbc96495c97bd622726",
            "value": 0
          }
        },
        "b1056d32ba424177b559291396289a26": {
          "model_module": "@jupyter-widgets/controls",
          "model_module_version": "1.5.0",
          "model_name": "HBoxModel",
          "state": {
            "_dom_classes": [],
            "_model_module": "@jupyter-widgets/controls",
            "_model_module_version": "1.5.0",
            "_model_name": "HBoxModel",
            "_view_count": null,
            "_view_module": "@jupyter-widgets/controls",
            "_view_module_version": "1.5.0",
            "_view_name": "HBoxView",
            "box_style": "",
            "children": [
              "IPY_MODEL_59548eaae4dc4f4f96f25259b40deae3",
              "IPY_MODEL_84b397a5070142aeb7889e8bc6c37d02",
              "IPY_MODEL_709a32ea4a2841019d2b626102414b7f"
            ],
            "layout": "IPY_MODEL_de5fd2115852487d80d967f1f69e6b9c"
          }
        },
        "de5fd2115852487d80d967f1f69e6b9c": {
          "model_module": "@jupyter-widgets/base",
          "model_module_version": "1.2.0",
          "model_name": "LayoutModel",
          "state": {
            "_model_module": "@jupyter-widgets/base",
            "_model_module_version": "1.2.0",
            "_model_name": "LayoutModel",
            "_view_count": null,
            "_view_module": "@jupyter-widgets/base",
            "_view_module_version": "1.2.0",
            "_view_name": "LayoutView",
            "align_content": null,
            "align_items": null,
            "align_self": null,
            "border": null,
            "bottom": null,
            "display": "inline-flex",
            "flex": null,
            "flex_flow": "row wrap",
            "grid_area": null,
            "grid_auto_columns": null,
            "grid_auto_flow": null,
            "grid_auto_rows": null,
            "grid_column": null,
            "grid_gap": null,
            "grid_row": null,
            "grid_template_areas": null,
            "grid_template_columns": null,
            "grid_template_rows": null,
            "height": null,
            "justify_content": null,
            "justify_items": null,
            "left": null,
            "margin": null,
            "max_height": null,
            "max_width": null,
            "min_height": null,
            "min_width": null,
            "object_fit": null,
            "object_position": null,
            "order": null,
            "overflow": null,
            "overflow_x": null,
            "overflow_y": null,
            "padding": null,
            "right": null,
            "top": null,
            "visibility": null,
            "width": "100%"
          }
        },
        "f777fdcd7fa340c7bb7bb1020f6cf6cc": {
          "model_module": "@jupyter-widgets/base",
          "model_module_version": "1.2.0",
          "model_name": "LayoutModel",
          "state": {
            "_model_module": "@jupyter-widgets/base",
            "_model_module_version": "1.2.0",
            "_model_name": "LayoutModel",
            "_view_count": null,
            "_view_module": "@jupyter-widgets/base",
            "_view_module_version": "1.2.0",
            "_view_name": "LayoutView",
            "align_content": null,
            "align_items": null,
            "align_self": null,
            "border": null,
            "bottom": null,
            "display": null,
            "flex": "2",
            "flex_flow": null,
            "grid_area": null,
            "grid_auto_columns": null,
            "grid_auto_flow": null,
            "grid_auto_rows": null,
            "grid_column": null,
            "grid_gap": null,
            "grid_row": null,
            "grid_template_areas": null,
            "grid_template_columns": null,
            "grid_template_rows": null,
            "height": null,
            "justify_content": null,
            "justify_items": null,
            "left": null,
            "margin": null,
            "max_height": null,
            "max_width": null,
            "min_height": null,
            "min_width": null,
            "object_fit": null,
            "object_position": null,
            "order": null,
            "overflow": null,
            "overflow_x": null,
            "overflow_y": null,
            "padding": null,
            "right": null,
            "top": null,
            "visibility": null,
            "width": null
          }
        }
      }
    }
  },
  "nbformat": 4,
  "nbformat_minor": 0
}
