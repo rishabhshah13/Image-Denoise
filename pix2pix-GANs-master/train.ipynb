{
 "cells": [
  {
   "cell_type": "code",
   "execution_count": 2,
   "id": "6c913c5b-a9cd-4929-b28a-f6bc05633796",
   "metadata": {},
   "outputs": [],
   "source": [
    "import torch\n",
    "from utils import save_checkpoint, load_checkpoint, save_some_examples\n",
    "import torch.nn as nn\n",
    "import torch.optim as optim\n",
    "import config\n",
    "from dataset import Satellite2Map_Data\n",
    "from Models import Generator,Discriminator\n",
    "from torch.utils.data import DataLoader\n",
    "from tqdm.notebook import tqdm\n",
    "import matplotlib.pyplot as plt"
   ]
  },
  {
   "cell_type": "code",
   "execution_count": 3,
   "id": "c8af5313-dcda-448d-afdb-51f020a98492",
   "metadata": {},
   "outputs": [],
   "source": [
    "torch.backends.cudnn.benchmark = True\n",
    "Gen_loss = []\n",
    "Dis_loss = []"
   ]
  },
  {
   "cell_type": "code",
   "execution_count": 4,
   "id": "a412c67a-ce84-4f13-8d3f-f23c92961516",
   "metadata": {},
   "outputs": [],
   "source": [
    "def train(netG, netD, train_dl, OptimizerG, OptimizerD, L1_Loss, BCE_Loss):\n",
    "    loop = tqdm(train_dl)\n",
    "    for idx, (x,y) in enumerate(loop):\n",
    "        x = x.cuda()\n",
    "        y = y.cuda()\n",
    "        ############## Train Discriminator ##############\n",
    "        #with torch.cuda.amp.autocast():\n",
    "        y_fake = netG(x)\n",
    "        D_real = netD(x,y)\n",
    "        D_real_loss = BCE_Loss(D_real, torch.ones_like(D_real))\n",
    "        D_fake = netD(x,y_fake.detach())\n",
    "        D_fake_loss = BCE_Loss(D_fake, torch.zeros_like(D_fake))\n",
    "        D_loss = (D_real_loss + D_fake_loss)/2\n",
    "        \n",
    "        netD.zero_grad()\n",
    "        Dis_loss.append(D_loss.item())\n",
    "        D_loss.backward()\n",
    "        #D_Scaler.scale(D_loss).backward()\n",
    "        OptimizerD.step()\n",
    "        #D_Scaler.step(OptimizerD)\n",
    "        #D_Scaler.update()\n",
    "        \n",
    "        ############## Train Generator ##############\n",
    "        #with torch.cuda.amp.autocast():\n",
    "        D_fake = netD(x, y_fake)\n",
    "        G_fake_loss = BCE_Loss(D_fake, torch.ones_like(D_fake))\n",
    "        L1 = L1_Loss(y_fake,y) * config.L1_LAMBDA\n",
    "        G_loss = G_fake_loss + L1\n",
    "        \n",
    "        OptimizerG.zero_grad()\n",
    "        Gen_loss.append(G_loss.item())\n",
    "        G_loss.backward()\n",
    "        #G_Scaler.scale(G_loss).backward()\n",
    "        #G_Scaler.step(OptimizerG)\n",
    "        OptimizerG.step()\n",
    "        #G_Scaler.update()\n",
    "        \n",
    "        if idx % 10 == 0:\n",
    "            loop.set_postfix(\n",
    "                D_real=torch.sigmoid(D_real).mean().item(),\n",
    "                D_fake=torch.sigmoid(D_fake).mean().item(),\n",
    "            )\n",
    "        "
   ]
  },
  {
   "cell_type": "code",
   "execution_count": 5,
   "id": "fe4b7406-cf41-4779-afc6-bb0424104374",
   "metadata": {},
   "outputs": [],
   "source": [
    "def main():\n",
    "    netD = Discriminator(in_channels=3).cuda()\n",
    "    netG = Generator(in_channels=3).cuda()\n",
    "    OptimizerD = torch.optim.Adam(netD.parameters(),lr=config.LEARNING_RATE,betas=(config.BETA1,0.999))\n",
    "    OptimizerG = torch.optim.Adam(netG.parameters(),lr=config.LEARNING_RATE,betas=(config.BETA1,0.999))\n",
    "    BCE_Loss = nn.BCEWithLogitsLoss()\n",
    "    L1_Loss = nn.L1Loss()\n",
    "    \n",
    "    if config.LOAD_MODEL:\n",
    "        load_checkpoint(\n",
    "            config.CHECKPOINT_GEN,netG,OptimizerG,config.LEARNING_RATE\n",
    "        )\n",
    "        load_checkpoint(\n",
    "            config.CHECKPOINT_DISC,netD,OptimizerD,config.LEARNING_RATE\n",
    "        )\n",
    "        \n",
    "    train_dataset = Satellite2Map_Data(root=config.TRAIN_DIR)\n",
    "    train_dl = DataLoader(train_dataset,batch_size=config.BATCH_SIZE,shuffle=True,num_workers=config.NUM_WORKERS,pin_memory=True)\n",
    "    # G_Scaler = torch.cuda.amp.GradScaler()\n",
    "    # D_Scaler = torch.cuda.amp.GradScaler()\n",
    "    val_dataset = Satellite2Map_Data(root=config.VAL_DIR)\n",
    "    val_dl = DataLoader(val_dataset,batch_size=config.BATCH_SIZE,shuffle=True,num_workers=config.NUM_WORKERS,pin_memory=True)\n",
    "    \n",
    "    \n",
    "    for epoch in range(config.NUM_EPOCHS):\n",
    "        train(\n",
    "            netG, netD, train_dl, OptimizerG, OptimizerD, L1_Loss, BCE_Loss\n",
    "        )\n",
    "        #Generator_loss.append(g_loss.item())\n",
    "        #Discriminator_loss.append(d_loss.item())\n",
    "        if config.SAVE_MODEL and epoch%50==0:\n",
    "            save_checkpoint(netG, OptimizerG, filename=config.CHECKPOINT_GEN)\n",
    "            save_checkpoint(netD, OptimizerD, filename=config.CHECKPOINT_DISC)\n",
    "        if epoch%2==0:\n",
    "            save_some_examples(netG, val_dl, epoch, folder=\"evaluation\")"
   ]
  },
  {
   "cell_type": "code",
   "execution_count": 6,
   "id": "07357e41-47ba-4e3d-bb1c-6ebffeebcfc0",
   "metadata": {},
   "outputs": [
    {
     "ename": "FileNotFoundError",
     "evalue": "[WinError 3] The system cannot find the path specified: './maps/train'",
     "output_type": "error",
     "traceback": [
      "\u001b[1;31m---------------------------------------------------------------------------\u001b[0m",
      "\u001b[1;31mFileNotFoundError\u001b[0m                         Traceback (most recent call last)",
      "Cell \u001b[1;32mIn[6], line 1\u001b[0m\n\u001b[1;32m----> 1\u001b[0m main()\n",
      "Cell \u001b[1;32mIn[5], line 17\u001b[0m, in \u001b[0;36mmain\u001b[1;34m()\u001b[0m\n\u001b[0;32m     10\u001b[0m     load_checkpoint(\n\u001b[0;32m     11\u001b[0m         config\u001b[39m.\u001b[39mCHECKPOINT_GEN,netG,OptimizerG,config\u001b[39m.\u001b[39mLEARNING_RATE\n\u001b[0;32m     12\u001b[0m     )\n\u001b[0;32m     13\u001b[0m     load_checkpoint(\n\u001b[0;32m     14\u001b[0m         config\u001b[39m.\u001b[39mCHECKPOINT_DISC,netD,OptimizerD,config\u001b[39m.\u001b[39mLEARNING_RATE\n\u001b[0;32m     15\u001b[0m     )\n\u001b[1;32m---> 17\u001b[0m train_dataset \u001b[39m=\u001b[39m Satellite2Map_Data(root\u001b[39m=\u001b[39;49mconfig\u001b[39m.\u001b[39;49mTRAIN_DIR)\n\u001b[0;32m     18\u001b[0m train_dl \u001b[39m=\u001b[39m DataLoader(train_dataset,batch_size\u001b[39m=\u001b[39mconfig\u001b[39m.\u001b[39mBATCH_SIZE,shuffle\u001b[39m=\u001b[39m\u001b[39mTrue\u001b[39;00m,num_workers\u001b[39m=\u001b[39mconfig\u001b[39m.\u001b[39mNUM_WORKERS,pin_memory\u001b[39m=\u001b[39m\u001b[39mTrue\u001b[39;00m)\n\u001b[0;32m     19\u001b[0m \u001b[39m# G_Scaler = torch.cuda.amp.GradScaler()\u001b[39;00m\n\u001b[0;32m     20\u001b[0m \u001b[39m# D_Scaler = torch.cuda.amp.GradScaler()\u001b[39;00m\n",
      "File \u001b[1;32mc:\\Users\\rs659\\Desktop\\Image-Denoise\\pix2pix-GANs-master\\dataset.py:34\u001b[0m, in \u001b[0;36mSatellite2Map_Data.__init__\u001b[1;34m(self, root)\u001b[0m\n\u001b[0;32m     32\u001b[0m \u001b[39mdef\u001b[39;00m \u001b[39m__init__\u001b[39m(\u001b[39mself\u001b[39m,root):\n\u001b[0;32m     33\u001b[0m     \u001b[39mself\u001b[39m\u001b[39m.\u001b[39mroot \u001b[39m=\u001b[39m root\n\u001b[1;32m---> 34\u001b[0m     list_files \u001b[39m=\u001b[39m os\u001b[39m.\u001b[39;49mlistdir(\u001b[39mself\u001b[39;49m\u001b[39m.\u001b[39;49mroot)\n\u001b[0;32m     35\u001b[0m     \u001b[39m#### Removing '.ipynb_checkpoints' from the list\u001b[39;00m\n\u001b[0;32m     36\u001b[0m     list_files\u001b[39m.\u001b[39mremove(\u001b[39m'\u001b[39m\u001b[39m.ipynb_checkpoints\u001b[39m\u001b[39m'\u001b[39m)\n",
      "\u001b[1;31mFileNotFoundError\u001b[0m: [WinError 3] The system cannot find the path specified: './maps/train'"
     ]
    }
   ],
   "source": [
    "main()"
   ]
  },
  {
   "cell_type": "code",
   "execution_count": null,
   "id": "02d177bd-af4d-4fa0-bf64-2220546cba63",
   "metadata": {},
   "outputs": [],
   "source": [
    "plt.figure(figsize=(10,5))\n",
    "plt.title(\"Generator and Discriminator Loss During Training\")\n",
    "plt.plot(Gen_loss,label=\"Generator\")\n",
    "plt.plot(Dis_loss,label=\"Discriminator\")\n",
    "plt.xlabel(\"Epochs\")\n",
    "plt.ylabel(\"Loss\")\n",
    "plt.legend()\n",
    "plt.show()"
   ]
  }
 ],
 "metadata": {
  "kernelspec": {
   "display_name": "Python 3 (ipykernel)",
   "language": "python",
   "name": "python3"
  },
  "language_info": {
   "codemirror_mode": {
    "name": "ipython",
    "version": 3
   },
   "file_extension": ".py",
   "mimetype": "text/x-python",
   "name": "python",
   "nbconvert_exporter": "python",
   "pygments_lexer": "ipython3",
   "version": "3.9.19"
  }
 },
 "nbformat": 4,
 "nbformat_minor": 5
}
